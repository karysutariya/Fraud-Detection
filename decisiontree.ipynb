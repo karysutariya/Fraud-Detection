{
 "cells": [
  {
   "cell_type": "code",
   "execution_count": 1,
   "metadata": {},
   "outputs": [],
   "source": [
    "from pyspark.sql import SparkSession\n",
    "from pyspark.ml.feature import VectorAssembler\n",
    "from pyspark.ml.regression import LinearRegression\n",
    "from pyspark.ml.classification import DecisionTreeClassifier\n",
    "from pyspark.ml.evaluation import BinaryClassificationEvaluator\n",
    "from pyspark.ml.tuning import CrossValidator, ParamGridBuilder\n",
    "from sklearn.metrics import f1_score, recall_score, classification_report"
   ]
  },
  {
   "cell_type": "code",
   "execution_count": 2,
   "metadata": {},
   "outputs": [],
   "source": [
    "def init_spark():\n",
    "    spark = SparkSession.builder.appName(\"Python Spark SQL basic example\").config(\"spark.some.config.option\", \"some-value\").getOrCreate()\n",
    "    return spark\n",
    "spark_object = init_spark()"
   ]
  },
  {
   "cell_type": "code",
   "execution_count": 3,
   "metadata": {},
   "outputs": [],
   "source": [
    "train_spark = spark_object.read.option(\"delimiter\", \",\").csv(\"./data/trainbalanced.csv\", header='true', inferSchema='true')"
   ]
  },
  {
   "cell_type": "code",
   "execution_count": 4,
   "metadata": {},
   "outputs": [],
   "source": [
    "for i in train_spark.columns:\n",
    "    oldname = i\n",
    "    if \".\" in oldname:\n",
    "        newname = oldname.replace(\".\",\"\")\n",
    "        train_spark = train_spark.withColumnRenamed(oldname, newname)"
   ]
  },
  {
   "cell_type": "code",
   "execution_count": 5,
   "metadata": {},
   "outputs": [],
   "source": [
    "train_data, test_data = train_spark.randomSplit([0.7, 0.3], seed=123)"
   ]
  },
  {
   "cell_type": "code",
   "execution_count": 6,
   "metadata": {},
   "outputs": [],
   "source": [
    "input_list =[]\n",
    "for i in train_spark.columns:\n",
    "    if i != 'isFraud':\n",
    "        input_list.append(i)"
   ]
  },
  {
   "cell_type": "code",
   "execution_count": 7,
   "metadata": {},
   "outputs": [],
   "source": [
    "assembler = VectorAssembler(inputCols=input_list,outputCol='features')"
   ]
  },
  {
   "cell_type": "code",
   "execution_count": 8,
   "metadata": {},
   "outputs": [],
   "source": [
    "train_features = assembler.transform(train_data)\n",
    "test_features = assembler.transform(test_data)"
   ]
  },
  {
   "cell_type": "code",
   "execution_count": 9,
   "metadata": {},
   "outputs": [
    {
     "name": "stdout",
     "output_type": "stream",
     "text": [
      "-------------------------\n",
      "Depth: 5\n",
      "Training Report\n",
      "              precision    recall  f1-score   support\n",
      "\n",
      "           0       0.92      0.94      0.93     93211\n",
      "           1       0.94      0.92      0.93     93300\n",
      "\n",
      "    accuracy                           0.93    186511\n",
      "   macro avg       0.93      0.93      0.93    186511\n",
      "weighted avg       0.93      0.93      0.93    186511\n",
      "\n",
      "Test Report\n",
      "              precision    recall  f1-score   support\n",
      "\n",
      "           0       0.92      0.94      0.93     39704\n",
      "           1       0.94      0.92      0.93     39615\n",
      "\n",
      "    accuracy                           0.93     79319\n",
      "   macro avg       0.93      0.93      0.93     79319\n",
      "weighted avg       0.93      0.93      0.93     79319\n",
      "\n",
      "-------------------------\n",
      "Depth: 10\n",
      "Training Report\n",
      "              precision    recall  f1-score   support\n",
      "\n",
      "           0       0.96      0.97      0.96     93211\n",
      "           1       0.97      0.96      0.96     93300\n",
      "\n",
      "    accuracy                           0.96    186511\n",
      "   macro avg       0.96      0.96      0.96    186511\n",
      "weighted avg       0.96      0.96      0.96    186511\n",
      "\n",
      "Test Report\n",
      "              precision    recall  f1-score   support\n",
      "\n",
      "           0       0.95      0.97      0.96     39704\n",
      "           1       0.97      0.95      0.96     39615\n",
      "\n",
      "    accuracy                           0.96     79319\n",
      "   macro avg       0.96      0.96      0.96     79319\n",
      "weighted avg       0.96      0.96      0.96     79319\n",
      "\n",
      "-------------------------\n",
      "Depth: 20\n",
      "Training Report\n",
      "              precision    recall  f1-score   support\n",
      "\n",
      "           0       0.99      1.00      0.99     93211\n",
      "           1       1.00      0.99      0.99     93300\n",
      "\n",
      "    accuracy                           0.99    186511\n",
      "   macro avg       0.99      0.99      0.99    186511\n",
      "weighted avg       0.99      0.99      0.99    186511\n",
      "\n",
      "Test Report\n",
      "              precision    recall  f1-score   support\n",
      "\n",
      "           0       0.97      0.97      0.97     39704\n",
      "           1       0.97      0.97      0.97     39615\n",
      "\n",
      "    accuracy                           0.97     79319\n",
      "   macro avg       0.97      0.97      0.97     79319\n",
      "weighted avg       0.97      0.97      0.97     79319\n",
      "\n"
     ]
    }
   ],
   "source": [
    "dt_models = []\n",
    "max_depths = [5, 10, 20]\n",
    "for md in max_depths:\n",
    "    print(\"-\"*25)\n",
    "    print(\"Depth: \" + str(md))\n",
    "    dt = DecisionTreeClassifier(featuresCol='features', labelCol='isFraud', maxDepth=md)\n",
    "    model = dt.fit(train_features)\n",
    "    predictions = model.transform(train_features)\n",
    "    y_train_pred=predictions.select(\"prediction\").collect()\n",
    "    y_train_orig=predictions.select(\"isFraud\").collect()\n",
    "    print('Training Report')\n",
    "    print(classification_report(y_train_orig, y_train_pred))\n",
    "\n",
    "    predictions = model.transform(test_features)\n",
    "    y_test_pred=predictions.select(\"prediction\").collect()\n",
    "    y_test_orig=predictions.select(\"isFraud\").collect()\n",
    "    print('Test Report')\n",
    "    print(classification_report(y_test_orig, y_test_pred))\n",
    "    dt_models.append(model)"
   ]
  },
  {
   "cell_type": "code",
   "execution_count": 10,
   "metadata": {},
   "outputs": [
    {
     "name": "stderr",
     "output_type": "stream",
     "text": [
      "                                                                                \r"
     ]
    }
   ],
   "source": [
    "# try:\n",
    "#     dt = DecisionTreeClassifier(featuresCol='features', labelCol='isFraud')\n",
    "#     # paramGrid = ParamGridBuilder().build()\n",
    "#     # cv = CrossValidator(estimator=dt, estimatorParamMaps=paramGrid, evaluator=BinaryClassificationEvaluator(), numFolds=5)\n",
    "#     model = dt.fit(train_features)\n",
    "# except Exception as e:\n",
    "#     print(e)"
   ]
  },
  {
   "cell_type": "code",
   "execution_count": 16,
   "metadata": {},
   "outputs": [],
   "source": [
    "# predictions = model.transform(test_features)\n",
    "# # evaluator = BinaryClassificationEvaluator(labelCol='isFraud', rawPredictionCol='prediction', metricName='areaUnderROC')\n"
   ]
  },
  {
   "cell_type": "code",
   "execution_count": 19,
   "metadata": {},
   "outputs": [
    {
     "name": "stderr",
     "output_type": "stream",
     "text": [
      "                                                                                \r"
     ]
    }
   ],
   "source": [
    "# y_pred=predictions.select(\"prediction\").collect()\n",
    "# y_orig=predictions.select(\"isFraud\").collect()"
   ]
  },
  {
   "cell_type": "code",
   "execution_count": 20,
   "metadata": {},
   "outputs": [
    {
     "data": {
      "text/plain": [
       "0.9278894982734106"
      ]
     },
     "execution_count": 20,
     "metadata": {},
     "output_type": "execute_result"
    }
   ],
   "source": [
    "# f1_score(y_orig, y_pred)"
   ]
  },
  {
   "cell_type": "code",
   "execution_count": 24,
   "metadata": {},
   "outputs": [
    {
     "data": {
      "text/plain": [
       "0.9229681264838107"
      ]
     },
     "execution_count": 24,
     "metadata": {},
     "output_type": "execute_result"
    }
   ],
   "source": [
    "# recall_score(y_orig, y_pred)"
   ]
  },
  {
   "cell_type": "code",
   "execution_count": 14,
   "metadata": {},
   "outputs": [
    {
     "name": "stderr",
     "output_type": "stream",
     "text": [
      "                                                                                \r"
     ]
    },
    {
     "name": "stdout",
     "output_type": "stream",
     "text": [
      "RoC = 0.9283146850100981\n"
     ]
    }
   ],
   "source": [
    "# rmse = evaluator.evaluate(predictions)\n",
    "# print('RoC =', rmse)"
   ]
  },
  {
   "cell_type": "code",
   "execution_count": null,
   "metadata": {},
   "outputs": [],
   "source": []
  }
 ],
 "metadata": {
  "kernelspec": {
   "display_name": "Python [conda env:soen6111]",
   "language": "python",
   "name": "conda-env-soen6111-py"
  },
  "language_info": {
   "codemirror_mode": {
    "name": "ipython",
    "version": 3
   },
   "file_extension": ".py",
   "mimetype": "text/x-python",
   "name": "python",
   "nbconvert_exporter": "python",
   "pygments_lexer": "ipython3",
   "version": "3.10.9"
  }
 },
 "nbformat": 4,
 "nbformat_minor": 2
}
