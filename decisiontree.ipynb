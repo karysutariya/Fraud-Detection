{
 "cells": [
  {
   "cell_type": "code",
   "execution_count": 1,
   "metadata": {},
   "outputs": [],
   "source": [
    "from pyspark.sql import SparkSession\n",
    "from pyspark.ml.feature import VectorAssembler\n",
    "from pyspark.ml.regression import LinearRegression\n",
    "from pyspark.ml.classification import DecisionTreeClassifier\n",
    "from pyspark.ml.evaluation import BinaryClassificationEvaluator\n",
    "from pyspark.ml.tuning import CrossValidator, ParamGridBuilder\n",
    "from sklearn.metrics import f1_score, recall_score, classification_report"
   ]
  },
  {
   "cell_type": "code",
   "execution_count": 2,
   "metadata": {},
   "outputs": [
    {
     "name": "stdout",
     "output_type": "stream",
     "text": [
      "23/03/29 19:52:22 WARN Utils: Your hostname, karyubuntu resolves to a loopback address: 127.0.1.1; using 172.31.170.192 instead (on interface wlp0s20f3)\n",
      "23/03/29 19:52:22 WARN Utils: Set SPARK_LOCAL_IP if you need to bind to another address\n"
     ]
    },
    {
     "name": "stderr",
     "output_type": "stream",
     "text": [
      "Setting default log level to \"WARN\".\n",
      "To adjust logging level use sc.setLogLevel(newLevel). For SparkR, use setLogLevel(newLevel).\n"
     ]
    },
    {
     "name": "stdout",
     "output_type": "stream",
     "text": [
      "23/03/29 19:52:23 WARN NativeCodeLoader: Unable to load native-hadoop library for your platform... using builtin-java classes where applicable\n"
     ]
    }
   ],
   "source": [
    "def init_spark():\n",
    "    spark = SparkSession.builder.appName(\"Python Spark SQL basic example\").config(\"spark.some.config.option\", \"some-value\").getOrCreate()\n",
    "    return spark\n",
    "spark_object = init_spark()"
   ]
  },
  {
   "cell_type": "code",
   "execution_count": 3,
   "metadata": {},
   "outputs": [
    {
     "name": "stderr",
     "output_type": "stream",
     "text": [
      "                                                                                \r"
     ]
    }
   ],
   "source": [
    "train_spark = spark_object.read.option(\"delimiter\", \",\").csv(\"./data/trainbalanced.csv\", header='true', inferSchema='true')\n",
    "test_spark = spark_object.read.option(\"delimiter\", \",\").csv(\"./data/testbalanced.csv\", header='true', inferSchema='true')"
   ]
  },
  {
   "cell_type": "code",
   "execution_count": 4,
   "metadata": {},
   "outputs": [],
   "source": [
    "for i in train_spark.columns:\n",
    "    oldname = i\n",
    "    if \".\" in oldname:\n",
    "        newname = oldname.replace(\".\",\"\")\n",
    "        train_spark = train_spark.withColumnRenamed(oldname, newname)\n",
    "        test_spark = test_spark.withColumnRenamed(oldname, newname)"
   ]
  },
  {
   "cell_type": "code",
   "execution_count": 5,
   "metadata": {},
   "outputs": [],
   "source": [
    "# train_data, test_data = train_spark.randomSplit([0.7, 0.3], seed=123)"
   ]
  },
  {
   "cell_type": "code",
   "execution_count": 6,
   "metadata": {},
   "outputs": [],
   "source": [
    "input_list =[]\n",
    "for i in train_spark.columns:\n",
    "    if i != 'isFraud':\n",
    "        input_list.append(i)"
   ]
  },
  {
   "cell_type": "code",
   "execution_count": 7,
   "metadata": {},
   "outputs": [],
   "source": [
    "assembler = VectorAssembler(inputCols=input_list,outputCol='features')"
   ]
  },
  {
   "cell_type": "code",
   "execution_count": 8,
   "metadata": {},
   "outputs": [],
   "source": [
    "train_features = assembler.transform(train_spark)\n",
    "test_features = assembler.transform(test_spark)"
   ]
  },
  {
   "cell_type": "code",
   "execution_count": 9,
   "metadata": {},
   "outputs": [
    {
     "name": "stdout",
     "output_type": "stream",
     "text": [
      "-------------------------\n",
      "Depth: 5\n"
     ]
    },
    {
     "name": "stderr",
     "output_type": "stream",
     "text": [
      "                                                                                \r"
     ]
    },
    {
     "name": "stdout",
     "output_type": "stream",
     "text": [
      "23/03/29 19:52:54 WARN package: Truncated the string representation of a plan since it was too large. This behavior can be adjusted by setting 'spark.sql.debug.maxToStringFields'.\n"
     ]
    },
    {
     "name": "stderr",
     "output_type": "stream",
     "text": [
      "                                                                                \r"
     ]
    },
    {
     "name": "stdout",
     "output_type": "stream",
     "text": [
      "Training Report\n",
      "              precision    recall  f1-score   support\n",
      "\n",
      "         0.0       0.94      0.93      0.93     93062\n",
      "         1.0       0.93      0.94      0.93     93062\n",
      "\n",
      "    accuracy                           0.93    186124\n",
      "   macro avg       0.93      0.93      0.93    186124\n",
      "weighted avg       0.93      0.93      0.93    186124\n",
      "\n"
     ]
    },
    {
     "name": "stderr",
     "output_type": "stream",
     "text": [
      "                                                                                \r"
     ]
    },
    {
     "name": "stdout",
     "output_type": "stream",
     "text": [
      "Test Report\n",
      "              precision    recall  f1-score   support\n",
      "\n",
      "         0.0       0.97      0.92      0.95     39853\n",
      "         1.0       0.43      0.67      0.52      3417\n",
      "\n",
      "    accuracy                           0.90     43270\n",
      "   macro avg       0.70      0.80      0.73     43270\n",
      "weighted avg       0.93      0.90      0.91     43270\n",
      "\n",
      "-------------------------\n",
      "Depth: 10\n"
     ]
    },
    {
     "name": "stderr",
     "output_type": "stream",
     "text": [
      "                                                                                \r"
     ]
    },
    {
     "name": "stdout",
     "output_type": "stream",
     "text": [
      "Training Report\n",
      "              precision    recall  f1-score   support\n",
      "\n",
      "         0.0       0.96      0.97      0.96     93062\n",
      "         1.0       0.97      0.96      0.96     93062\n",
      "\n",
      "    accuracy                           0.96    186124\n",
      "   macro avg       0.96      0.96      0.96    186124\n",
      "weighted avg       0.96      0.96      0.96    186124\n",
      "\n",
      "Test Report\n",
      "              precision    recall  f1-score   support\n",
      "\n",
      "         0.0       0.97      0.97      0.97     39853\n",
      "         1.0       0.61      0.63      0.62      3417\n",
      "\n",
      "    accuracy                           0.94     43270\n",
      "   macro avg       0.79      0.80      0.79     43270\n",
      "weighted avg       0.94      0.94      0.94     43270\n",
      "\n",
      "-------------------------\n",
      "Depth: 12\n"
     ]
    },
    {
     "name": "stderr",
     "output_type": "stream",
     "text": [
      "                                                                                \r"
     ]
    },
    {
     "name": "stdout",
     "output_type": "stream",
     "text": [
      "Training Report\n",
      "              precision    recall  f1-score   support\n",
      "\n",
      "         0.0       0.97      0.98      0.97     93062\n",
      "         1.0       0.98      0.97      0.97     93062\n",
      "\n",
      "    accuracy                           0.97    186124\n",
      "   macro avg       0.97      0.97      0.97    186124\n",
      "weighted avg       0.97      0.97      0.97    186124\n",
      "\n"
     ]
    },
    {
     "name": "stderr",
     "output_type": "stream",
     "text": [
      "                                                                                \r"
     ]
    },
    {
     "name": "stdout",
     "output_type": "stream",
     "text": [
      "Test Report\n",
      "              precision    recall  f1-score   support\n",
      "\n",
      "         0.0       0.97      0.97      0.97     39853\n",
      "         1.0       0.65      0.64      0.65      3417\n",
      "\n",
      "    accuracy                           0.94     43270\n",
      "   macro avg       0.81      0.81      0.81     43270\n",
      "weighted avg       0.94      0.94      0.94     43270\n",
      "\n"
     ]
    }
   ],
   "source": [
    "dt_models = []\n",
    "max_depths = [5, 10, 12]\n",
    "for md in max_depths:\n",
    "    print(\"-\"*25)\n",
    "    print(\"Depth: \" + str(md))\n",
    "    dt = DecisionTreeClassifier(featuresCol='features', labelCol='isFraud', maxDepth=md)\n",
    "    model = dt.fit(train_features)\n",
    "    predictions = model.transform(train_features)\n",
    "    y_train_pred=predictions.select(\"prediction\").collect()\n",
    "    y_train_orig=predictions.select(\"isFraud\").collect()\n",
    "    print('Training Report')\n",
    "    print(classification_report(y_train_orig, y_train_pred))\n",
    "\n",
    "    predictions = model.transform(test_features)\n",
    "    y_test_pred=predictions.select(\"prediction\").collect()\n",
    "    y_test_orig=predictions.select(\"isFraud\").collect()\n",
    "    print('Test Report')\n",
    "    print(classification_report(y_test_orig, y_test_pred))\n",
    "    dt_models.append(model)"
   ]
  },
  {
   "cell_type": "code",
   "execution_count": 10,
   "metadata": {},
   "outputs": [],
   "source": [
    "# try:\n",
    "#     dt = DecisionTreeClassifier(featuresCol='features', labelCol='isFraud')\n",
    "#     # paramGrid = ParamGridBuilder().build()\n",
    "#     # cv = CrossValidator(estimator=dt, estimatorParamMaps=paramGrid, evaluator=BinaryClassificationEvaluator(), numFolds=5)\n",
    "#     model = dt.fit(train_features)\n",
    "# except Exception as e:\n",
    "#     print(e)"
   ]
  },
  {
   "cell_type": "code",
   "execution_count": 11,
   "metadata": {},
   "outputs": [],
   "source": [
    "# predictions = model.transform(test_features)\n",
    "# # evaluator = BinaryClassificationEvaluator(labelCol='isFraud', rawPredictionCol='prediction', metricName='areaUnderROC')\n"
   ]
  },
  {
   "cell_type": "code",
   "execution_count": 12,
   "metadata": {},
   "outputs": [],
   "source": [
    "# y_pred=predictions.select(\"prediction\").collect()\n",
    "# y_orig=predictions.select(\"isFraud\").collect()"
   ]
  },
  {
   "cell_type": "code",
   "execution_count": 13,
   "metadata": {},
   "outputs": [],
   "source": [
    "# f1_score(y_orig, y_pred)"
   ]
  },
  {
   "cell_type": "code",
   "execution_count": 14,
   "metadata": {},
   "outputs": [],
   "source": [
    "# recall_score(y_orig, y_pred)"
   ]
  },
  {
   "cell_type": "code",
   "execution_count": 15,
   "metadata": {},
   "outputs": [],
   "source": [
    "# rmse = evaluator.evaluate(predictions)\n",
    "# print('RoC =', rmse)"
   ]
  },
  {
   "cell_type": "code",
   "execution_count": null,
   "metadata": {},
   "outputs": [],
   "source": []
  }
 ],
 "metadata": {
  "kernelspec": {
   "display_name": "bigdata",
   "language": "python",
   "name": "python3"
  },
  "language_info": {
   "codemirror_mode": {
    "name": "ipython",
    "version": 3
   },
   "file_extension": ".py",
   "mimetype": "text/x-python",
   "name": "python",
   "nbconvert_exporter": "python",
   "pygments_lexer": "ipython3",
   "version": "3.10.9"
  }
 },
 "nbformat": 4,
 "nbformat_minor": 2
}
