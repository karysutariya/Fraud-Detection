{
 "cells": [
  {
   "cell_type": "code",
   "execution_count": 1,
   "metadata": {},
   "outputs": [],
   "source": [
    "import os\n",
    "import sys\n",
    "from pyspark.sql import DataFrame\n",
    "from pyspark.sql import SparkSession\n",
    "from pyspark.sql.functions import col\n"
   ]
  },
  {
   "cell_type": "code",
   "execution_count": 2,
   "metadata": {},
   "outputs": [],
   "source": [
    "def init_spark():\n",
    "    spark = SparkSession.builder.appName(\"Python Spark SQL basic example\").config(\"spark.some.config.option\", \"some-value\").getOrCreate()\n",
    "    return spark"
   ]
  },
  {
   "cell_type": "code",
   "execution_count": 3,
   "metadata": {},
   "outputs": [
    {
     "name": "stdout",
     "output_type": "stream",
     "text": [
      "23/03/14 08:29:39 WARN Utils: Your hostname, karyubuntu resolves to a loopback address: 127.0.1.1; using 192.168.0.165 instead (on interface wlp0s20f3)\n",
      "23/03/14 08:29:39 WARN Utils: Set SPARK_LOCAL_IP if you need to bind to another address\n"
     ]
    },
    {
     "name": "stderr",
     "output_type": "stream",
     "text": [
      "Setting default log level to \"WARN\".\n",
      "To adjust logging level use sc.setLogLevel(newLevel). For SparkR, use setLogLevel(newLevel).\n"
     ]
    },
    {
     "name": "stdout",
     "output_type": "stream",
     "text": [
      "23/03/14 08:29:40 WARN NativeCodeLoader: Unable to load native-hadoop library for your platform... using builtin-java classes where applicable\n"
     ]
    },
    {
     "name": "stderr",
     "output_type": "stream",
     "text": [
      "                                                                                \r"
     ]
    }
   ],
   "source": [
    "spark_object = init_spark()\n",
    "train_identity = spark_object.read.option(\"delimiter\", \",\").csv(\"./data/train_identity.csv\", header='true', inferSchema='true')\n",
    "train_transaction = spark_object.read.option(\"delimiter\", \",\").csv(\"./data/train_transaction.csv\", header='true', inferSchema='true')"
   ]
  },
  {
   "cell_type": "code",
   "execution_count": 4,
   "metadata": {},
   "outputs": [
    {
     "name": "stdout",
     "output_type": "stream",
     "text": [
      "144233\n",
      "590540\n",
      "23/03/13 23:52:19 WARN package: Truncated the string representation of a plan since it was too large. This behavior can be adjusted by setting 'spark.sql.debug.maxToStringFields'.\n",
      "Row(TransactionID=2987004, id_01=0.0, id_02=70787.0, id_03=None, id_04=None, id_05=None, id_06=None, id_07=None, id_08=None, id_09=None, id_10=None, id_11=100.0, id_12='NotFound', id_13=None, id_14=-480.0, id_15='New', id_16='NotFound', id_17=166.0, id_18=None, id_19=542.0, id_20=144.0, id_21=None, id_22=None, id_23=None, id_24=None, id_25=None, id_26=None, id_27=None, id_28='New', id_29='NotFound', id_30='Android 7.0', id_31='samsung browser 6.2', id_32=32.0, id_33='2220x1080', id_34='match_status:2', id_35='T', id_36='F', id_37='T', id_38='T', DeviceType='mobile', DeviceInfo='SAMSUNG SM-G892A Build/NRD90M')\n",
      "Row(TransactionID=2987000, isFraud=0, TransactionDT=86400, TransactionAmt=68.5, ProductCD='W', card1=13926, card2=None, card3=150.0, card4='discover', card5=142.0, card6='credit', addr1=315.0, addr2=87.0, dist1=19.0, dist2=None, P_emaildomain=None, R_emaildomain=None, C1=1.0, C2=1.0, C3=0.0, C4=0.0, C5=0.0, C6=1.0, C7=0.0, C8=0.0, C9=1.0, C10=0.0, C11=2.0, C12=0.0, C13=1.0, C14=1.0, D1=14.0, D2=None, D3=13.0, D4=None, D5=None, D6=None, D7=None, D8=None, D9=None, D10=13.0, D11=13.0, D12=None, D13=None, D14=None, D15=0.0, M1='T', M2='T', M3='T', M4='M2', M5='F', M6='T', M7=None, M8=None, M9=None, V1=1.0, V2=1.0, V3=1.0, V4=1.0, V5=1.0, V6=1.0, V7=1.0, V8=1.0, V9=1.0, V10=0.0, V11=0.0, V12=1.0, V13=1.0, V14=1.0, V15=0.0, V16=0.0, V17=0.0, V18=0.0, V19=1.0, V20=1.0, V21=0.0, V22=0.0, V23=1.0, V24=1.0, V25=1.0, V26=1.0, V27=0.0, V28=0.0, V29=0.0, V30=0.0, V31=0.0, V32=0.0, V33=0.0, V34=0.0, V35=None, V36=None, V37=None, V38=None, V39=None, V40=None, V41=None, V42=None, V43=None, V44=None, V45=None, V46=None, V47=None, V48=None, V49=None, V50=None, V51=None, V52=None, V53=1.0, V54=1.0, V55=1.0, V56=1.0, V57=0.0, V58=0.0, V59=0.0, V60=0.0, V61=1.0, V62=1.0, V63=0.0, V64=0.0, V65=1.0, V66=1.0, V67=1.0, V68=0.0, V69=0.0, V70=0.0, V71=0.0, V72=0.0, V73=0.0, V74=0.0, V75=1.0, V76=1.0, V77=1.0, V78=1.0, V79=0.0, V80=0.0, V81=0.0, V82=0.0, V83=0.0, V84=0.0, V85=0.0, V86=1.0, V87=1.0, V88=1.0, V89=0.0, V90=0.0, V91=0.0, V92=0.0, V93=0.0, V94=0.0, V95=0.0, V96=1.0, V97=0.0, V98=0.0, V99=0.0, V100=0.0, V101=0.0, V102=1.0, V103=0.0, V104=0.0, V105=0.0, V106=0.0, V107=1.0, V108=1.0, V109=1.0, V110=1.0, V111=1.0, V112=1.0, V113=1.0, V114=1.0, V115=1.0, V116=1.0, V117=1.0, V118=1.0, V119=1.0, V120=1.0, V121=1.0, V122=1.0, V123=1.0, V124=1.0, V125=1.0, V126=0.0, V127=117.0, V128=0.0, V129=0.0, V130=0.0, V131=0.0, V132=0.0, V133=117.0, V134=0.0, V135=0.0, V136=0.0, V137=0.0, V138=None, V139=None, V140=None, V141=None, V142=None, V143=None, V144=None, V145=None, V146=None, V147=None, V148=None, V149=None, V150=None, V151=None, V152=None, V153=None, V154=None, V155=None, V156=None, V157=None, V158=None, V159=None, V160=None, V161=None, V162=None, V163=None, V164=None, V165=None, V166=None, V167=None, V168=None, V169=None, V170=None, V171=None, V172=None, V173=None, V174=None, V175=None, V176=None, V177=None, V178=None, V179=None, V180=None, V181=None, V182=None, V183=None, V184=None, V185=None, V186=None, V187=None, V188=None, V189=None, V190=None, V191=None, V192=None, V193=None, V194=None, V195=None, V196=None, V197=None, V198=None, V199=None, V200=None, V201=None, V202=None, V203=None, V204=None, V205=None, V206=None, V207=None, V208=None, V209=None, V210=None, V211=None, V212=None, V213=None, V214=None, V215=None, V216=None, V217=None, V218=None, V219=None, V220=None, V221=None, V222=None, V223=None, V224=None, V225=None, V226=None, V227=None, V228=None, V229=None, V230=None, V231=None, V232=None, V233=None, V234=None, V235=None, V236=None, V237=None, V238=None, V239=None, V240=None, V241=None, V242=None, V243=None, V244=None, V245=None, V246=None, V247=None, V248=None, V249=None, V250=None, V251=None, V252=None, V253=None, V254=None, V255=None, V256=None, V257=None, V258=None, V259=None, V260=None, V261=None, V262=None, V263=None, V264=None, V265=None, V266=None, V267=None, V268=None, V269=None, V270=None, V271=None, V272=None, V273=None, V274=None, V275=None, V276=None, V277=None, V278=None, V279=0.0, V280=0.0, V281=0.0, V282=1.0, V283=1.0, V284=0.0, V285=0.0, V286=0.0, V287=0.0, V288=0.0, V289=0.0, V290=1.0, V291=1.0, V292=1.0, V293=0.0, V294=1.0, V295=0.0, V296=0.0, V297=0.0, V298=0.0, V299=0.0, V300=0.0, V301=0.0, V302=0.0, V303=0.0, V304=0.0, V305=1.0, V306=0.0, V307=117.0, V308=0.0, V309=0.0, V310=0.0, V311=0.0, V312=0.0, V313=0.0, V314=0.0, V315=0.0, V316=0.0, V317=117.0, V318=0.0, V319=0.0, V320=0.0, V321=0.0, V322=None, V323=None, V324=None, V325=None, V326=None, V327=None, V328=None, V329=None, V330=None, V331=None, V332=None, V333=None, V334=None, V335=None, V336=None, V337=None, V338=None, V339=None)\n"
     ]
    },
    {
     "name": "stderr",
     "output_type": "stream",
     "text": [
      "                                                                                \r"
     ]
    }
   ],
   "source": [
    "print(train_identity.count())\n",
    "print(train_transaction.count())\n",
    "print(train_identity.head())\n",
    "print(train_transaction.head())"
   ]
  },
  {
   "cell_type": "code",
   "execution_count": 4,
   "metadata": {},
   "outputs": [],
   "source": [
    "train = train_transaction.join(train_identity, on=\"TransactionID\", how='inner')"
   ]
  },
  {
   "cell_type": "code",
   "execution_count": 6,
   "metadata": {},
   "outputs": [
    {
     "name": "stderr",
     "output_type": "stream",
     "text": [
      "                                                                                \r"
     ]
    },
    {
     "name": "stdout",
     "output_type": "stream",
     "text": [
      "144233\n"
     ]
    },
    {
     "name": "stderr",
     "output_type": "stream",
     "text": [
      "                                                                                \r"
     ]
    },
    {
     "data": {
      "text/plain": [
       "Row(TransactionID=2987048, isFraud=0, TransactionDT=87317, TransactionAmt=42.294, ProductCD='C', card1=15885, card2=545.0, card3=185.0, card4='visa', card5=138.0, card6='debit', addr1=None, addr2=None, dist1=None, dist2=None, P_emaildomain='outlook.com', R_emaildomain='outlook.com', C1=1.0, C2=1.0, C3=0.0, C4=1.0, C5=0.0, C6=1.0, C7=1.0, C8=1.0, C9=0.0, C10=1.0, C11=1.0, C12=1.0, C13=1.0, C14=1.0, D1=0.0, D2=None, D3=None, D4=0.0, D5=None, D6=0.0, D7=None, D8=None, D9=None, D10=0.0, D11=None, D12=0.0, D13=0.0, D14=0.0, D15=0.0, M1=None, M2=None, M3=None, M4='M2', M5=None, M6=None, M7=None, M8=None, M9=None, V1=None, V2=None, V3=None, V4=None, V5=None, V6=None, V7=None, V8=None, V9=None, V10=None, V11=None, V12=0.0, V13=0.0, V14=1.0, V15=1.0, V16=1.0, V17=1.0, V18=1.0, V19=1.0, V20=1.0, V21=1.0, V22=1.0, V23=1.0, V24=1.0, V25=1.0, V26=1.0, V27=0.0, V28=0.0, V29=0.0, V30=0.0, V31=1.0, V32=1.0, V33=1.0, V34=1.0, V35=0.0, V36=0.0, V37=1.0, V38=1.0, V39=1.0, V40=1.0, V41=1.0, V42=1.0, V43=1.0, V44=1.0, V45=1.0, V46=1.0, V47=1.0, V48=0.0, V49=0.0, V50=1.0, V51=1.0, V52=1.0, V53=0.0, V54=0.0, V55=1.0, V56=1.0, V57=1.0, V58=1.0, V59=1.0, V60=1.0, V61=1.0, V62=1.0, V63=1.0, V64=1.0, V65=1.0, V66=1.0, V67=1.0, V68=0.0, V69=0.0, V70=0.0, V71=1.0, V72=1.0, V73=1.0, V74=1.0, V75=0.0, V76=0.0, V77=1.0, V78=1.0, V79=1.0, V80=1.0, V81=1.0, V82=1.0, V83=1.0, V84=1.0, V85=1.0, V86=1.0, V87=1.0, V88=1.0, V89=0.0, V90=0.0, V91=0.0, V92=1.0, V93=1.0, V94=1.0, V95=0.0, V96=0.0, V97=0.0, V98=0.0, V99=0.0, V100=0.0, V101=0.0, V102=0.0, V103=0.0, V104=0.0, V105=0.0, V106=0.0, V107=1.0, V108=1.0, V109=1.0, V110=1.0, V111=1.0, V112=1.0, V113=1.0, V114=1.0, V115=1.0, V116=1.0, V117=1.0, V118=1.0, V119=1.0, V120=1.0, V121=1.0, V122=1.0, V123=1.0, V124=1.0, V125=1.0, V126=0.0, V127=0.0, V128=0.0, V129=0.0, V130=0.0, V131=0.0, V132=0.0, V133=0.0, V134=0.0, V135=0.0, V136=0.0, V137=0.0, V138=None, V139=None, V140=None, V141=None, V142=None, V143=None, V144=None, V145=None, V146=None, V147=None, V148=None, V149=None, V150=None, V151=None, V152=None, V153=None, V154=None, V155=None, V156=None, V157=None, V158=None, V159=None, V160=None, V161=None, V162=None, V163=None, V164=None, V165=None, V166=None, V167=0.0, V168=0.0, V169=0.0, V170=1.0, V171=1.0, V172=0.0, V173=0.0, V174=0.0, V175=0.0, V176=1.0, V177=0.0, V178=0.0, V179=0.0, V180=0.0, V181=0.0, V182=0.0, V183=0.0, V184=0.0, V185=0.0, V186=1.0, V187=1.0, V188=1.0, V189=1.0, V190=1.0, V191=1.0, V192=1.0, V193=1.0, V194=1.0, V195=1.0, V196=1.0, V197=1.0, V198=1.0, V199=1.0, V200=1.0, V201=1.0, V202=0.0, V203=0.0, V204=0.0, V205=0.0, V206=0.0, V207=0.0, V208=0.0, V209=0.0, V210=0.0, V211=0.0, V212=0.0, V213=0.0, V214=0.0, V215=0.0, V216=0.0, V217=0.0, V218=0.0, V219=0.0, V220=0.0, V221=1.0, V222=1.0, V223=0.0, V224=0.0, V225=0.0, V226=0.0, V227=0.0, V228=1.0, V229=1.0, V230=1.0, V231=0.0, V232=0.0, V233=0.0, V234=0.0, V235=0.0, V236=0.0, V237=0.0, V238=0.0, V239=0.0, V240=1.0, V241=1.0, V242=1.0, V243=1.0, V244=1.0, V245=1.0, V246=1.0, V247=1.0, V248=1.0, V249=1.0, V250=1.0, V251=1.0, V252=1.0, V253=1.0, V254=1.0, V255=1.0, V256=1.0, V257=1.0, V258=1.0, V259=1.0, V260=1.0, V261=1.0, V262=1.0, V263=0.0, V264=0.0, V265=0.0, V266=0.0, V267=0.0, V268=0.0, V269=0.0, V270=0.0, V271=0.0, V272=0.0, V273=0.0, V274=0.0, V275=0.0, V276=0.0, V277=0.0, V278=0.0, V279=0.0, V280=0.0, V281=0.0, V282=1.0, V283=1.0, V284=0.0, V285=0.0, V286=0.0, V287=0.0, V288=0.0, V289=0.0, V290=1.0, V291=1.0, V292=1.0, V293=0.0, V294=0.0, V295=0.0, V296=0.0, V297=0.0, V298=0.0, V299=0.0, V300=0.0, V301=0.0, V302=1.0, V303=1.0, V304=1.0, V305=1.0, V306=0.0, V307=0.0, V308=0.0, V309=0.0, V310=0.0, V311=0.0, V312=0.0, V313=0.0, V314=0.0, V315=0.0, V316=0.0, V317=0.0, V318=0.0, V319=0.0, V320=0.0, V321=0.0, V322=None, V323=None, V324=None, V325=None, V326=None, V327=None, V328=None, V329=None, V330=None, V331=None, V332=None, V333=None, V334=None, V335=None, V336=None, V337=None, V338=None, V339=None, id_01=-5.0, id_02=257037.0, id_03=None, id_04=None, id_05=0.0, id_06=0.0, id_07=None, id_08=None, id_09=None, id_10=None, id_11=100.0, id_12='NotFound', id_13=52.0, id_14=None, id_15='New', id_16='NotFound', id_17=225.0, id_18=None, id_19=484.0, id_20=507.0, id_21=None, id_22=None, id_23=None, id_24=None, id_25=None, id_26=None, id_27=None, id_28='New', id_29='NotFound', id_30=None, id_31='chrome 62.0', id_32=None, id_33=None, id_34=None, id_35='F', id_36='F', id_37='T', id_38='T', DeviceType='desktop', DeviceInfo='Windows')"
      ]
     },
     "execution_count": 6,
     "metadata": {},
     "output_type": "execute_result"
    }
   ],
   "source": [
    "print(train.count())\n",
    "train.head()"
   ]
  },
  {
   "cell_type": "code",
   "execution_count": 7,
   "metadata": {},
   "outputs": [
    {
     "name": "stderr",
     "output_type": "stream",
     "text": [
      "                                                                                \r"
     ]
    }
   ],
   "source": [
    "total_count = train.count()\n",
    "def null_percentage(df, column):\n",
    "    null_count = df.where(col(column).isNull()).count()\n",
    "    return null_count / total_count\n",
    "\n",
    " \n",
    "for column in train.columns:\n",
    "    if null_percentage(train, column) > 0.05:\n",
    "        train = train.drop(col(column))"
   ]
  },
  {
   "cell_type": "code",
   "execution_count": 8,
   "metadata": {},
   "outputs": [
    {
     "name": "stderr",
     "output_type": "stream",
     "text": [
      "[Stage 1759:===================================>                  (13 + 7) / 20]\r"
     ]
    },
    {
     "name": "stdout",
     "output_type": "stream",
     "text": [
      "(144233, 194)\n"
     ]
    },
    {
     "name": "stderr",
     "output_type": "stream",
     "text": [
      "                                                                                \r"
     ]
    }
   ],
   "source": [
    "print((train.count(), len(train.columns)))\n",
    "train.toPandas().to_csv('./data/traincleaned.csv')"
   ]
  },
  {
   "attachments": {},
   "cell_type": "markdown",
   "metadata": {},
   "source": [
    "load data from train cleaned file "
   ]
  },
  {
   "cell_type": "code",
   "execution_count": 26,
   "metadata": {},
   "outputs": [
    {
     "name": "stderr",
     "output_type": "stream",
     "text": [
      "                                                                                \r"
     ]
    }
   ],
   "source": [
    "train = spark_object.read.option(\"delimiter\", \",\").csv(\"./data/traincleaned.csv\", header='true', inferSchema='true')\n",
    "train = train.drop(col(\"_c0\"))"
   ]
  },
  {
   "cell_type": "code",
   "execution_count": 27,
   "metadata": {},
   "outputs": [],
   "source": [
    "\n",
    "li = (train.columns)"
   ]
  },
  {
   "attachments": {},
   "cell_type": "markdown",
   "metadata": {},
   "source": [
    "work with test data"
   ]
  },
  {
   "cell_type": "code",
   "execution_count": 28,
   "metadata": {},
   "outputs": [
    {
     "name": "stderr",
     "output_type": "stream",
     "text": [
      "                                                                                \r"
     ]
    }
   ],
   "source": [
    "test_identity = spark_object.read.option(\"delimiter\", \",\").csv(\"./data/test_identity.csv\", header='true', inferSchema='true')\n",
    "test_transaction = spark_object.read.option(\"delimiter\", \",\").csv(\"./data/test_transaction.csv\", header='true', inferSchema='true')"
   ]
  },
  {
   "cell_type": "code",
   "execution_count": 33,
   "metadata": {},
   "outputs": [
    {
     "name": "stdout",
     "output_type": "stream",
     "text": [
      "['TransactionID', 'id-01', 'id-02', 'id-03', 'id-04', 'id-05', 'id-06', 'id-07', 'id-08', 'id-09', 'id-10', 'id-11', 'id-12', 'id-13', 'id-14', 'id-15', 'id-16', 'id-17', 'id-18', 'id-19', 'id-20', 'id-21', 'id-22', 'id-23', 'id-24', 'id-25', 'id-26', 'id-27', 'id-28', 'id-29', 'id-30', 'id-31', 'id-32', 'id-33', 'id-34', 'id-35', 'id-36', 'id-37', 'id-38', 'DeviceType', 'DeviceInfo']\n",
      "['TransactionID', 'id_01', 'id_02', 'id_03', 'id_04', 'id_05', 'id_06', 'id_07', 'id_08', 'id_09', 'id_10', 'id_11', 'id_12', 'id_13', 'id_14', 'id_15', 'id_16', 'id_17', 'id_18', 'id_19', 'id_20', 'id_21', 'id_22', 'id_23', 'id_24', 'id_25', 'id_26', 'id_27', 'id_28', 'id_29', 'id_30', 'id_31', 'id_32', 'id_33', 'id_34', 'id_35', 'id_36', 'id_37', 'id_38', 'DeviceType', 'DeviceInfo']\n",
      "['TransactionID', 'TransactionDT', 'TransactionAmt', 'ProductCD', 'card1', 'card2', 'card3', 'card4', 'card5', 'card6', 'addr1', 'addr2', 'dist1', 'dist2', 'P_emaildomain', 'R_emaildomain', 'C1', 'C2', 'C3', 'C4', 'C5', 'C6', 'C7', 'C8', 'C9', 'C10', 'C11', 'C12', 'C13', 'C14', 'D1', 'D2', 'D3', 'D4', 'D5', 'D6', 'D7', 'D8', 'D9', 'D10', 'D11', 'D12', 'D13', 'D14', 'D15', 'M1', 'M2', 'M3', 'M4', 'M5', 'M6', 'M7', 'M8', 'M9', 'V1', 'V2', 'V3', 'V4', 'V5', 'V6', 'V7', 'V8', 'V9', 'V10', 'V11', 'V12', 'V13', 'V14', 'V15', 'V16', 'V17', 'V18', 'V19', 'V20', 'V21', 'V22', 'V23', 'V24', 'V25', 'V26', 'V27', 'V28', 'V29', 'V30', 'V31', 'V32', 'V33', 'V34', 'V35', 'V36', 'V37', 'V38', 'V39', 'V40', 'V41', 'V42', 'V43', 'V44', 'V45', 'V46', 'V47', 'V48', 'V49', 'V50', 'V51', 'V52', 'V53', 'V54', 'V55', 'V56', 'V57', 'V58', 'V59', 'V60', 'V61', 'V62', 'V63', 'V64', 'V65', 'V66', 'V67', 'V68', 'V69', 'V70', 'V71', 'V72', 'V73', 'V74', 'V75', 'V76', 'V77', 'V78', 'V79', 'V80', 'V81', 'V82', 'V83', 'V84', 'V85', 'V86', 'V87', 'V88', 'V89', 'V90', 'V91', 'V92', 'V93', 'V94', 'V95', 'V96', 'V97', 'V98', 'V99', 'V100', 'V101', 'V102', 'V103', 'V104', 'V105', 'V106', 'V107', 'V108', 'V109', 'V110', 'V111', 'V112', 'V113', 'V114', 'V115', 'V116', 'V117', 'V118', 'V119', 'V120', 'V121', 'V122', 'V123', 'V124', 'V125', 'V126', 'V127', 'V128', 'V129', 'V130', 'V131', 'V132', 'V133', 'V134', 'V135', 'V136', 'V137', 'V138', 'V139', 'V140', 'V141', 'V142', 'V143', 'V144', 'V145', 'V146', 'V147', 'V148', 'V149', 'V150', 'V151', 'V152', 'V153', 'V154', 'V155', 'V156', 'V157', 'V158', 'V159', 'V160', 'V161', 'V162', 'V163', 'V164', 'V165', 'V166', 'V167', 'V168', 'V169', 'V170', 'V171', 'V172', 'V173', 'V174', 'V175', 'V176', 'V177', 'V178', 'V179', 'V180', 'V181', 'V182', 'V183', 'V184', 'V185', 'V186', 'V187', 'V188', 'V189', 'V190', 'V191', 'V192', 'V193', 'V194', 'V195', 'V196', 'V197', 'V198', 'V199', 'V200', 'V201', 'V202', 'V203', 'V204', 'V205', 'V206', 'V207', 'V208', 'V209', 'V210', 'V211', 'V212', 'V213', 'V214', 'V215', 'V216', 'V217', 'V218', 'V219', 'V220', 'V221', 'V222', 'V223', 'V224', 'V225', 'V226', 'V227', 'V228', 'V229', 'V230', 'V231', 'V232', 'V233', 'V234', 'V235', 'V236', 'V237', 'V238', 'V239', 'V240', 'V241', 'V242', 'V243', 'V244', 'V245', 'V246', 'V247', 'V248', 'V249', 'V250', 'V251', 'V252', 'V253', 'V254', 'V255', 'V256', 'V257', 'V258', 'V259', 'V260', 'V261', 'V262', 'V263', 'V264', 'V265', 'V266', 'V267', 'V268', 'V269', 'V270', 'V271', 'V272', 'V273', 'V274', 'V275', 'V276', 'V277', 'V278', 'V279', 'V280', 'V281', 'V282', 'V283', 'V284', 'V285', 'V286', 'V287', 'V288', 'V289', 'V290', 'V291', 'V292', 'V293', 'V294', 'V295', 'V296', 'V297', 'V298', 'V299', 'V300', 'V301', 'V302', 'V303', 'V304', 'V305', 'V306', 'V307', 'V308', 'V309', 'V310', 'V311', 'V312', 'V313', 'V314', 'V315', 'V316', 'V317', 'V318', 'V319', 'V320', 'V321', 'V322', 'V323', 'V324', 'V325', 'V326', 'V327', 'V328', 'V329', 'V330', 'V331', 'V332', 'V333', 'V334', 'V335', 'V336', 'V337', 'V338', 'V339']\n",
      "['TransactionID', 'TransactionDT', 'TransactionAmt', 'ProductCD', 'card1', 'card2', 'card3', 'card4', 'card5', 'card6', 'addr1', 'addr2', 'dist1', 'dist2', 'P_emaildomain', 'R_emaildomain', 'C1', 'C2', 'C3', 'C4', 'C5', 'C6', 'C7', 'C8', 'C9', 'C10', 'C11', 'C12', 'C13', 'C14', 'D1', 'D2', 'D3', 'D4', 'D5', 'D6', 'D7', 'D8', 'D9', 'D10', 'D11', 'D12', 'D13', 'D14', 'D15', 'M1', 'M2', 'M3', 'M4', 'M5', 'M6', 'M7', 'M8', 'M9', 'V1', 'V2', 'V3', 'V4', 'V5', 'V6', 'V7', 'V8', 'V9', 'V10', 'V11', 'V12', 'V13', 'V14', 'V15', 'V16', 'V17', 'V18', 'V19', 'V20', 'V21', 'V22', 'V23', 'V24', 'V25', 'V26', 'V27', 'V28', 'V29', 'V30', 'V31', 'V32', 'V33', 'V34', 'V35', 'V36', 'V37', 'V38', 'V39', 'V40', 'V41', 'V42', 'V43', 'V44', 'V45', 'V46', 'V47', 'V48', 'V49', 'V50', 'V51', 'V52', 'V53', 'V54', 'V55', 'V56', 'V57', 'V58', 'V59', 'V60', 'V61', 'V62', 'V63', 'V64', 'V65', 'V66', 'V67', 'V68', 'V69', 'V70', 'V71', 'V72', 'V73', 'V74', 'V75', 'V76', 'V77', 'V78', 'V79', 'V80', 'V81', 'V82', 'V83', 'V84', 'V85', 'V86', 'V87', 'V88', 'V89', 'V90', 'V91', 'V92', 'V93', 'V94', 'V95', 'V96', 'V97', 'V98', 'V99', 'V100', 'V101', 'V102', 'V103', 'V104', 'V105', 'V106', 'V107', 'V108', 'V109', 'V110', 'V111', 'V112', 'V113', 'V114', 'V115', 'V116', 'V117', 'V118', 'V119', 'V120', 'V121', 'V122', 'V123', 'V124', 'V125', 'V126', 'V127', 'V128', 'V129', 'V130', 'V131', 'V132', 'V133', 'V134', 'V135', 'V136', 'V137', 'V138', 'V139', 'V140', 'V141', 'V142', 'V143', 'V144', 'V145', 'V146', 'V147', 'V148', 'V149', 'V150', 'V151', 'V152', 'V153', 'V154', 'V155', 'V156', 'V157', 'V158', 'V159', 'V160', 'V161', 'V162', 'V163', 'V164', 'V165', 'V166', 'V167', 'V168', 'V169', 'V170', 'V171', 'V172', 'V173', 'V174', 'V175', 'V176', 'V177', 'V178', 'V179', 'V180', 'V181', 'V182', 'V183', 'V184', 'V185', 'V186', 'V187', 'V188', 'V189', 'V190', 'V191', 'V192', 'V193', 'V194', 'V195', 'V196', 'V197', 'V198', 'V199', 'V200', 'V201', 'V202', 'V203', 'V204', 'V205', 'V206', 'V207', 'V208', 'V209', 'V210', 'V211', 'V212', 'V213', 'V214', 'V215', 'V216', 'V217', 'V218', 'V219', 'V220', 'V221', 'V222', 'V223', 'V224', 'V225', 'V226', 'V227', 'V228', 'V229', 'V230', 'V231', 'V232', 'V233', 'V234', 'V235', 'V236', 'V237', 'V238', 'V239', 'V240', 'V241', 'V242', 'V243', 'V244', 'V245', 'V246', 'V247', 'V248', 'V249', 'V250', 'V251', 'V252', 'V253', 'V254', 'V255', 'V256', 'V257', 'V258', 'V259', 'V260', 'V261', 'V262', 'V263', 'V264', 'V265', 'V266', 'V267', 'V268', 'V269', 'V270', 'V271', 'V272', 'V273', 'V274', 'V275', 'V276', 'V277', 'V278', 'V279', 'V280', 'V281', 'V282', 'V283', 'V284', 'V285', 'V286', 'V287', 'V288', 'V289', 'V290', 'V291', 'V292', 'V293', 'V294', 'V295', 'V296', 'V297', 'V298', 'V299', 'V300', 'V301', 'V302', 'V303', 'V304', 'V305', 'V306', 'V307', 'V308', 'V309', 'V310', 'V311', 'V312', 'V313', 'V314', 'V315', 'V316', 'V317', 'V318', 'V319', 'V320', 'V321', 'V322', 'V323', 'V324', 'V325', 'V326', 'V327', 'V328', 'V329', 'V330', 'V331', 'V332', 'V333', 'V334', 'V335', 'V336', 'V337', 'V338', 'V339']\n"
     ]
    }
   ],
   "source": [
    "print(test_identity.columns)\n",
    "print(train_identity.columns)\n",
    "print(test_transaction.columns)\n",
    "print(test_transaction.columns)"
   ]
  },
  {
   "cell_type": "code",
   "execution_count": 29,
   "metadata": {},
   "outputs": [],
   "source": [
    "test = test_transaction.join(test_identity, on=\"TransactionID\", how='inner')\n",
    "for name in test.columns:\n",
    "    new_name = name.replace('-', '_')\n",
    "    if (new_name != name):\n",
    "        test = test.withColumnRenamed(name,new_name)"
   ]
  },
  {
   "cell_type": "code",
   "execution_count": 30,
   "metadata": {},
   "outputs": [],
   "source": [
    "for column in test.columns:\n",
    "    if column not in li:\n",
    "        test = test.drop(col(column))"
   ]
  },
  {
   "cell_type": "code",
   "execution_count": 35,
   "metadata": {},
   "outputs": [
    {
     "name": "stderr",
     "output_type": "stream",
     "text": [
      "                                                                                \r"
     ]
    },
    {
     "name": "stdout",
     "output_type": "stream",
     "text": [
      "(141907, 193)\n",
      "23/03/14 09:17:28 WARN package: Truncated the string representation of a plan since it was too large. This behavior can be adjusted by setting 'spark.sql.debug.maxToStringFields'.\n"
     ]
    },
    {
     "name": "stderr",
     "output_type": "stream",
     "text": [
      "                                                                                \r"
     ]
    }
   ],
   "source": [
    "print((test.count(), len(test.columns)))\n",
    "test.toPandas().to_csv('./data/testcleaned.csv')"
   ]
  },
  {
   "attachments": {},
   "cell_type": "markdown",
   "metadata": {},
   "source": [
    "load cleaned test data"
   ]
  },
  {
   "cell_type": "code",
   "execution_count": 36,
   "metadata": {},
   "outputs": [
    {
     "name": "stderr",
     "output_type": "stream",
     "text": [
      "                                                                                \r"
     ]
    }
   ],
   "source": [
    "test = spark_object.read.option(\"delimiter\", \",\").csv(\"./data/testcleaned.csv\", header='true', inferSchema='true')\n",
    "test = test.drop(col(\"_c0\"))"
   ]
  }
 ],
 "metadata": {
  "kernelspec": {
   "display_name": "bigdata",
   "language": "python",
   "name": "python3"
  },
  "language_info": {
   "codemirror_mode": {
    "name": "ipython",
    "version": 3
   },
   "file_extension": ".py",
   "mimetype": "text/x-python",
   "name": "python",
   "nbconvert_exporter": "python",
   "pygments_lexer": "ipython3",
   "version": "3.10.9"
  },
  "orig_nbformat": 4
 },
 "nbformat": 4,
 "nbformat_minor": 2
}
