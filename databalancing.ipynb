{
 "cells": [
  {
   "cell_type": "code",
   "execution_count": 1,
   "metadata": {},
   "outputs": [],
   "source": [
    "from pyspark.sql import SparkSession\n",
    "from pyspark.sql.functions import col\n",
    "from imblearn.over_sampling import SMOTE\n",
    "import pandas as pd \n",
    "from sklearn.impute import KNNImputer"
   ]
  },
  {
   "cell_type": "code",
   "execution_count": 2,
   "metadata": {},
   "outputs": [
    {
     "name": "stdout",
     "output_type": "stream",
     "text": [
      "23/03/15 08:45:08 WARN Utils: Your hostname, karyubuntu resolves to a loopback address: 127.0.1.1; using 192.168.0.165 instead (on interface wlp0s20f3)\n",
      "23/03/15 08:45:08 WARN Utils: Set SPARK_LOCAL_IP if you need to bind to another address\n"
     ]
    },
    {
     "name": "stderr",
     "output_type": "stream",
     "text": [
      "Setting default log level to \"WARN\".\n",
      "To adjust logging level use sc.setLogLevel(newLevel). For SparkR, use setLogLevel(newLevel).\n"
     ]
    },
    {
     "name": "stdout",
     "output_type": "stream",
     "text": [
      "23/03/15 08:45:08 WARN NativeCodeLoader: Unable to load native-hadoop library for your platform... using builtin-java classes where applicable\n",
      "23/03/15 08:45:09 WARN Utils: Service 'SparkUI' could not bind on port 4040. Attempting port 4041.\n"
     ]
    }
   ],
   "source": [
    "def init_spark():\n",
    "    spark = SparkSession.builder.appName(\"Python Spark SQL basic example\").config(\"spark.some.config.option\", \"some-value\").getOrCreate()\n",
    "    return spark\n",
    "spark_object = init_spark()"
   ]
  },
  {
   "attachments": {},
   "cell_type": "markdown",
   "metadata": {},
   "source": [
    "Training data encoding and smote balancing "
   ]
  },
  {
   "cell_type": "code",
   "execution_count": 3,
   "metadata": {},
   "outputs": [
    {
     "name": "stderr",
     "output_type": "stream",
     "text": [
      "                                                                                \r"
     ]
    }
   ],
   "source": [
    "train_spark = spark_object.read.option(\"delimiter\", \",\").csv(\"./data/traincleaned.csv\", header='true', inferSchema='true')\n",
    "train_spark = train_spark.drop(col(\"_c0\"))\n",
    "train_spark = train_spark.drop(col(\"id_31\"))"
   ]
  },
  {
   "cell_type": "code",
   "execution_count": 4,
   "metadata": {},
   "outputs": [
    {
     "name": "stdout",
     "output_type": "stream",
     "text": [
      "23/03/15 08:45:14 WARN package: Truncated the string representation of a plan since it was too large. This behavior can be adjusted by setting 'spark.sql.debug.maxToStringFields'.\n"
     ]
    },
    {
     "name": "stderr",
     "output_type": "stream",
     "text": [
      "                                                                                \r"
     ]
    }
   ],
   "source": [
    "train_pandas = train_spark.toPandas()"
   ]
  },
  {
   "cell_type": "code",
   "execution_count": 5,
   "metadata": {},
   "outputs": [],
   "source": [
    "imputer = KNNImputer(n_neighbors=5)\n"
   ]
  },
  {
   "cell_type": "code",
   "execution_count": 6,
   "metadata": {},
   "outputs": [],
   "source": [
    "cat_cols = [col for col in train_pandas.columns if train_pandas[col].dtype == 'object']"
   ]
  },
  {
   "cell_type": "code",
   "execution_count": 7,
   "metadata": {},
   "outputs": [],
   "source": [
    "X_train_temp = pd.get_dummies(train_pandas.drop('isFraud', axis=1), columns=cat_cols)\n",
    "y_train = train_pandas['isFraud']\n",
    "\n",
    "X_train = pd.DataFrame(imputer.fit_transform(X_train_temp), columns=X_train_temp.columns)"
   ]
  },
  {
   "cell_type": "code",
   "execution_count": 8,
   "metadata": {},
   "outputs": [],
   "source": [
    "sm = SMOTE(random_state=42)"
   ]
  },
  {
   "cell_type": "code",
   "execution_count": 9,
   "metadata": {},
   "outputs": [],
   "source": [
    "X_sm, y_sm = sm.fit_resample(X_train, y_train)\n"
   ]
  },
  {
   "cell_type": "code",
   "execution_count": 10,
   "metadata": {},
   "outputs": [
    {
     "data": {
      "image/png": "[encoded data removed]",
      "text/plain": [
       "<Figure size 640x480 with 1 Axes>"
      ]
     },
     "metadata": {},
     "output_type": "display_data"
    }
   ],
   "source": [
    "import matplotlib.pyplot as plt\n",
    "import numpy as np\n",
    "\n",
    "class_counts = np.bincount(y_sm)\n",
    "\n",
    "plt.bar(range(len(class_counts)), class_counts)\n",
    "plt.xticks(range(len(class_counts)), ['Class 0', 'Class 1'])\n",
    "plt.xlabel('Class')\n",
    "plt.ylabel('Number of Instances')\n",
    "plt.title('Class Distribution')\n",
    "plt.show()\n"
   ]
  },
  {
   "cell_type": "code",
   "execution_count": 19,
   "metadata": {},
   "outputs": [],
   "source": [
    "train_balanced_data = pd.concat([X_sm, y_sm], axis=1)\n",
    "# print((train_balanced_data.count(), len(train_balanced_data.columns)))\n",
    "train_balanced_data.to_csv('./data/trainbalanced.csv', index=False)"
   ]
  },
  {
   "attachments": {},
   "cell_type": "markdown",
   "metadata": {},
   "source": [
    "test data encoding "
   ]
  },
  {
   "cell_type": "code",
   "execution_count": 11,
   "metadata": {},
   "outputs": [
    {
     "name": "stderr",
     "output_type": "stream",
     "text": [
      "[Stage 4:=================>                                       (6 + 14) / 20]\r"
     ]
    },
    {
     "name": "stdout",
     "output_type": "stream",
     "text": [
      "192\n"
     ]
    },
    {
     "name": "stderr",
     "output_type": "stream",
     "text": [
      "                                                                                \r"
     ]
    }
   ],
   "source": [
    "test_spark = spark_object.read.option(\"delimiter\", \",\").csv(\"./data/testcleaned.csv\", header='true', inferSchema='true')\n",
    "test_spark = test_spark.drop(col(\"_c0\"))\n",
    "test_spark = test_spark.drop(col(\"id_31\"))\n",
    "print(len(test_spark.columns))"
   ]
  },
  {
   "cell_type": "code",
   "execution_count": 12,
   "metadata": {},
   "outputs": [
    {
     "name": "stderr",
     "output_type": "stream",
     "text": [
      "                                                                                \r"
     ]
    }
   ],
   "source": [
    "test_pandas = test_spark.toPandas()"
   ]
  },
  {
   "cell_type": "code",
   "execution_count": 13,
   "metadata": {},
   "outputs": [],
   "source": [
    "dog_cols = [col for col in test_pandas.columns if test_pandas[col].dtype == 'object']"
   ]
  },
  {
   "cell_type": "code",
   "execution_count": 14,
   "metadata": {},
   "outputs": [],
   "source": [
    "X_test = pd.get_dummies(test_pandas,columns=dog_cols)"
   ]
  },
  {
   "cell_type": "code",
   "execution_count": 18,
   "metadata": {},
   "outputs": [
    {
     "name": "stdout",
     "output_type": "stream",
     "text": [
      "(TransactionID         141907\n",
      "TransactionDT         141907\n",
      "TransactionAmt        141907\n",
      "card1                 141907\n",
      "card2                 139410\n",
      "                       ...  \n",
      "id_37_T               141907\n",
      "id_38_F               141907\n",
      "id_38_T               141907\n",
      "DeviceType_desktop    141907\n",
      "DeviceType_mobile     141907\n",
      "Length: 210, dtype: int64, 210)\n",
      "(TransactionID         265830\n",
      "TransactionDT         265830\n",
      "TransactionAmt        265830\n",
      "card1                 265830\n",
      "card2                 265830\n",
      "                       ...  \n",
      "id_38_F               265830\n",
      "id_38_T               265830\n",
      "DeviceType_desktop    265830\n",
      "DeviceType_mobile     265830\n",
      "isFraud               265830\n",
      "Length: 211, dtype: int64, 211)\n"
     ]
    }
   ],
   "source": [
    "# print((X_test.count(), len(X_test.columns)))\n",
    "# print((train_balanced_data.count(), len(train_balanced_data.columns)))"
   ]
  },
  {
   "cell_type": "code",
   "execution_count": 37,
   "metadata": {},
   "outputs": [],
   "source": [
    "X_test.to_csv('./data/testbalanced.csv', index=False)"
   ]
  }
 ],
 "metadata": {
  "kernelspec": {
   "display_name": "bigdata",
   "language": "python",
   "name": "python3"
  },
  "language_info": {
   "codemirror_mode": {
    "name": "ipython",
    "version": 3
   },
   "file_extension": ".py",
   "mimetype": "text/x-python",
   "name": "python",
   "nbconvert_exporter": "python",
   "pygments_lexer": "ipython3",
   "version": "3.10.9"
  },
  "orig_nbformat": 4
 },
 "nbformat": 4,
 "nbformat_minor": 2
}
