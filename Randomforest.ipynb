{
 "cells": [
  {
   "cell_type": "code",
   "execution_count": 1,
   "metadata": {},
   "outputs": [],
   "source": [
    "from pyspark.sql import SparkSession\n",
    "from pyspark.ml.feature import VectorAssembler\n",
    "from pyspark.ml.regression import LinearRegression\n",
    "from pyspark.ml.classification import RandomForestClassifier\n",
    "from pyspark.ml.evaluation import BinaryClassificationEvaluator\n",
    "from pyspark.ml.tuning import CrossValidator, ParamGridBuilder\n",
    "from sklearn.metrics import f1_score, recall_score, classification_report"
   ]
  },
  {
   "cell_type": "code",
   "execution_count": 2,
   "metadata": {},
   "outputs": [
    {
     "name": "stdout",
     "output_type": "stream",
     "text": [
      "23/03/29 20:03:48 WARN Utils: Your hostname, karyubuntu resolves to a loopback address: 127.0.1.1; using 172.31.170.192 instead (on interface wlp0s20f3)\n",
      "23/03/29 20:03:48 WARN Utils: Set SPARK_LOCAL_IP if you need to bind to another address\n"
     ]
    },
    {
     "name": "stderr",
     "output_type": "stream",
     "text": [
      "Setting default log level to \"WARN\".\n",
      "To adjust logging level use sc.setLogLevel(newLevel). For SparkR, use setLogLevel(newLevel).\n"
     ]
    },
    {
     "name": "stdout",
     "output_type": "stream",
     "text": [
      "23/03/29 20:03:49 WARN NativeCodeLoader: Unable to load native-hadoop library for your platform... using builtin-java classes where applicable\n",
      "23/03/29 20:03:50 WARN Utils: Service 'SparkUI' could not bind on port 4040. Attempting port 4041.\n"
     ]
    }
   ],
   "source": [
    "def init_spark():\n",
    "    spark = SparkSession.builder.appName(\"Python Spark SQL basic example\").config(\"spark.some.config.option\", \"some-value\").getOrCreate()\n",
    "    return spark\n",
    "spark_object = init_spark()"
   ]
  },
  {
   "cell_type": "code",
   "execution_count": 3,
   "metadata": {},
   "outputs": [
    {
     "name": "stderr",
     "output_type": "stream",
     "text": [
      "                                                                                \r"
     ]
    }
   ],
   "source": [
    "train_spark = spark_object.read.option(\"delimiter\", \",\").csv(\"./data/trainbalanced.csv\", header='true', inferSchema='true')\n",
    "test_spark = spark_object.read.option(\"delimiter\", \",\").csv(\"./data/testbalanced.csv\", header='true', inferSchema='true')"
   ]
  },
  {
   "cell_type": "code",
   "execution_count": 4,
   "metadata": {},
   "outputs": [],
   "source": [
    "for i in train_spark.columns:\n",
    "    oldname = i\n",
    "    if \".\" in oldname:\n",
    "        newname = oldname.replace(\".\",\"\")\n",
    "        train_spark = train_spark.withColumnRenamed(oldname, newname)\n",
    "        test_spark = test_spark.withColumnRenamed(oldname, newname)"
   ]
  },
  {
   "cell_type": "code",
   "execution_count": 5,
   "metadata": {},
   "outputs": [],
   "source": [
    "# train_data, test_data = train_spark.randomSplit([0.7, 0.3], seed=123)"
   ]
  },
  {
   "cell_type": "code",
   "execution_count": 6,
   "metadata": {},
   "outputs": [],
   "source": [
    "input_list =[]\n",
    "for i in train_spark.columns:\n",
    "    if i != 'isFraud':\n",
    "        input_list.append(i)"
   ]
  },
  {
   "cell_type": "code",
   "execution_count": 7,
   "metadata": {},
   "outputs": [],
   "source": [
    "assembler = VectorAssembler(inputCols=input_list,outputCol='features')"
   ]
  },
  {
   "cell_type": "code",
   "execution_count": 8,
   "metadata": {},
   "outputs": [],
   "source": [
    "train_features = assembler.transform(train_spark)\n",
    "test_features = assembler.transform(test_spark)"
   ]
  },
  {
   "cell_type": "code",
   "execution_count": 9,
   "metadata": {},
   "outputs": [],
   "source": [
    "maxDepths = [5, 10, 12]\n",
    "numTrees = [5, 10]"
   ]
  },
  {
   "cell_type": "code",
   "execution_count": 10,
   "metadata": {},
   "outputs": [
    {
     "name": "stdout",
     "output_type": "stream",
     "text": [
      "-------------------------\n",
      "Depth: 5\n",
      "numTrees: 5\n"
     ]
    },
    {
     "name": "stderr",
     "output_type": "stream",
     "text": [
      "                                                                                \r"
     ]
    },
    {
     "name": "stdout",
     "output_type": "stream",
     "text": [
      "23/03/29 20:04:20 WARN package: Truncated the string representation of a plan since it was too large. This behavior can be adjusted by setting 'spark.sql.debug.maxToStringFields'.\n"
     ]
    },
    {
     "name": "stderr",
     "output_type": "stream",
     "text": [
      "                                                                                \r"
     ]
    },
    {
     "name": "stdout",
     "output_type": "stream",
     "text": [
      "Training Report\n",
      "              precision    recall  f1-score   support\n",
      "\n",
      "         0.0       0.90      0.93      0.92     93062\n",
      "         1.0       0.93      0.90      0.91     93062\n",
      "\n",
      "    accuracy                           0.91    186124\n",
      "   macro avg       0.92      0.91      0.91    186124\n",
      "weighted avg       0.92      0.91      0.91    186124\n",
      "\n"
     ]
    },
    {
     "name": "stderr",
     "output_type": "stream",
     "text": [
      "                                                                                \r"
     ]
    },
    {
     "name": "stdout",
     "output_type": "stream",
     "text": [
      "Test Report\n",
      "              precision    recall  f1-score   support\n",
      "\n",
      "         0.0       0.97      0.93      0.95     39853\n",
      "         1.0       0.42      0.61      0.50      3417\n",
      "\n",
      "    accuracy                           0.90     43270\n",
      "   macro avg       0.69      0.77      0.72     43270\n",
      "weighted avg       0.92      0.90      0.91     43270\n",
      "\n",
      "-------------------------\n",
      "Depth: 5\n",
      "numTrees: 10\n"
     ]
    },
    {
     "name": "stderr",
     "output_type": "stream",
     "text": [
      "                                                                                \r"
     ]
    },
    {
     "name": "stdout",
     "output_type": "stream",
     "text": [
      "Training Report\n",
      "              precision    recall  f1-score   support\n",
      "\n",
      "         0.0       0.91      0.93      0.92     93062\n",
      "         1.0       0.93      0.90      0.92     93062\n",
      "\n",
      "    accuracy                           0.92    186124\n",
      "   macro avg       0.92      0.92      0.92    186124\n",
      "weighted avg       0.92      0.92      0.92    186124\n",
      "\n"
     ]
    },
    {
     "name": "stderr",
     "output_type": "stream",
     "text": [
      "                                                                                \r"
     ]
    },
    {
     "name": "stdout",
     "output_type": "stream",
     "text": [
      "Test Report\n",
      "              precision    recall  f1-score   support\n",
      "\n",
      "         0.0       0.97      0.93      0.95     39853\n",
      "         1.0       0.44      0.61      0.51      3417\n",
      "\n",
      "    accuracy                           0.91     43270\n",
      "   macro avg       0.70      0.77      0.73     43270\n",
      "weighted avg       0.92      0.91      0.92     43270\n",
      "\n",
      "-------------------------\n",
      "Depth: 10\n",
      "numTrees: 5\n"
     ]
    },
    {
     "name": "stderr",
     "output_type": "stream",
     "text": [
      "                                                                                \r"
     ]
    },
    {
     "name": "stdout",
     "output_type": "stream",
     "text": [
      "Training Report\n",
      "              precision    recall  f1-score   support\n",
      "\n",
      "         0.0       0.95      0.97      0.96     93062\n",
      "         1.0       0.97      0.95      0.96     93062\n",
      "\n",
      "    accuracy                           0.96    186124\n",
      "   macro avg       0.96      0.96      0.96    186124\n",
      "weighted avg       0.96      0.96      0.96    186124\n",
      "\n",
      "Test Report\n",
      "              precision    recall  f1-score   support\n",
      "\n",
      "         0.0       0.97      0.97      0.97     39853\n",
      "         1.0       0.65      0.61      0.63      3417\n",
      "\n",
      "    accuracy                           0.94     43270\n",
      "   macro avg       0.81      0.79      0.80     43270\n",
      "weighted avg       0.94      0.94      0.94     43270\n",
      "\n",
      "-------------------------\n",
      "Depth: 10\n",
      "numTrees: 10\n"
     ]
    },
    {
     "name": "stderr",
     "output_type": "stream",
     "text": [
      "                                                                                \r"
     ]
    },
    {
     "name": "stdout",
     "output_type": "stream",
     "text": [
      "23/03/29 20:05:29 WARN DAGScheduler: Broadcasting large task binary with size 1222.2 KiB\n"
     ]
    },
    {
     "name": "stderr",
     "output_type": "stream",
     "text": [
      "                                                                                \r"
     ]
    },
    {
     "name": "stdout",
     "output_type": "stream",
     "text": [
      "Training Report\n",
      "              precision    recall  f1-score   support\n",
      "\n",
      "         0.0       0.96      0.98      0.97     93062\n",
      "         1.0       0.98      0.96      0.97     93062\n",
      "\n",
      "    accuracy                           0.97    186124\n",
      "   macro avg       0.97      0.97      0.97    186124\n",
      "weighted avg       0.97      0.97      0.97    186124\n",
      "\n"
     ]
    },
    {
     "name": "stderr",
     "output_type": "stream",
     "text": [
      "                                                                                \r"
     ]
    },
    {
     "name": "stdout",
     "output_type": "stream",
     "text": [
      "Test Report\n",
      "              precision    recall  f1-score   support\n",
      "\n",
      "         0.0       0.97      0.97      0.97     39853\n",
      "         1.0       0.68      0.62      0.65      3417\n",
      "\n",
      "    accuracy                           0.95     43270\n",
      "   macro avg       0.82      0.80      0.81     43270\n",
      "weighted avg       0.95      0.95      0.95     43270\n",
      "\n",
      "-------------------------\n",
      "Depth: 12\n",
      "numTrees: 5\n"
     ]
    },
    {
     "name": "stderr",
     "output_type": "stream",
     "text": [
      "                                                                                \r"
     ]
    },
    {
     "name": "stdout",
     "output_type": "stream",
     "text": [
      "23/03/29 20:05:54 WARN DAGScheduler: Broadcasting large task binary with size 1295.0 KiB\n"
     ]
    },
    {
     "name": "stderr",
     "output_type": "stream",
     "text": [
      "                                                                                \r"
     ]
    },
    {
     "name": "stdout",
     "output_type": "stream",
     "text": [
      "Training Report\n",
      "              precision    recall  f1-score   support\n",
      "\n",
      "         0.0       0.96      0.98      0.97     93062\n",
      "         1.0       0.98      0.96      0.97     93062\n",
      "\n",
      "    accuracy                           0.97    186124\n",
      "   macro avg       0.97      0.97      0.97    186124\n",
      "weighted avg       0.97      0.97      0.97    186124\n",
      "\n"
     ]
    },
    {
     "name": "stderr",
     "output_type": "stream",
     "text": [
      "                                                                                \r"
     ]
    },
    {
     "name": "stdout",
     "output_type": "stream",
     "text": [
      "Test Report\n",
      "              precision    recall  f1-score   support\n",
      "\n",
      "         0.0       0.97      0.98      0.97     39853\n",
      "         1.0       0.71      0.61      0.66      3417\n",
      "\n",
      "    accuracy                           0.95     43270\n",
      "   macro avg       0.84      0.80      0.81     43270\n",
      "weighted avg       0.95      0.95      0.95     43270\n",
      "\n",
      "-------------------------\n",
      "Depth: 12\n",
      "numTrees: 10\n"
     ]
    },
    {
     "name": "stderr",
     "output_type": "stream",
     "text": [
      "                                                                                \r"
     ]
    },
    {
     "name": "stdout",
     "output_type": "stream",
     "text": [
      "23/03/29 20:06:19 WARN DAGScheduler: Broadcasting large task binary with size 1222.2 KiB\n"
     ]
    },
    {
     "name": "stderr",
     "output_type": "stream",
     "text": [
      "                                                                                \r"
     ]
    },
    {
     "name": "stdout",
     "output_type": "stream",
     "text": [
      "23/03/29 20:06:21 WARN DAGScheduler: Broadcasting large task binary with size 1765.0 KiB\n"
     ]
    },
    {
     "name": "stderr",
     "output_type": "stream",
     "text": [
      "                                                                                \r"
     ]
    },
    {
     "name": "stdout",
     "output_type": "stream",
     "text": [
      "23/03/29 20:06:24 WARN DAGScheduler: Broadcasting large task binary with size 2.4 MiB\n"
     ]
    },
    {
     "name": "stderr",
     "output_type": "stream",
     "text": [
      "                                                                                \r"
     ]
    },
    {
     "name": "stdout",
     "output_type": "stream",
     "text": [
      "23/03/29 20:06:46 WARN DAGScheduler: Broadcasting large task binary with size 1603.1 KiB\n"
     ]
    },
    {
     "name": "stderr",
     "output_type": "stream",
     "text": [
      "                                                                                \r"
     ]
    },
    {
     "name": "stdout",
     "output_type": "stream",
     "text": [
      "Training Report\n",
      "              precision    recall  f1-score   support\n",
      "\n",
      "         0.0       0.96      0.99      0.98     93062\n",
      "         1.0       0.99      0.96      0.98     93062\n",
      "\n",
      "    accuracy                           0.98    186124\n",
      "   macro avg       0.98      0.98      0.98    186124\n",
      "weighted avg       0.98      0.98      0.98    186124\n",
      "\n",
      "23/03/29 20:06:56 WARN DAGScheduler: Broadcasting large task binary with size 1596.1 KiB\n"
     ]
    },
    {
     "name": "stderr",
     "output_type": "stream",
     "text": [
      "                                                                                \r"
     ]
    },
    {
     "name": "stdout",
     "output_type": "stream",
     "text": [
      "Test Report\n",
      "              precision    recall  f1-score   support\n",
      "\n",
      "         0.0       0.97      0.98      0.97     39853\n",
      "         1.0       0.74      0.63      0.68      3417\n",
      "\n",
      "    accuracy                           0.95     43270\n",
      "   macro avg       0.85      0.80      0.83     43270\n",
      "weighted avg       0.95      0.95      0.95     43270\n",
      "\n"
     ]
    }
   ],
   "source": [
    "rf_models = []\n",
    "for md in maxDepths:\n",
    "    for nt in numTrees:\n",
    "        print(\"-\"*25)\n",
    "        print(\"Depth: \" + str(md))\n",
    "        print(\"numTrees: \" + str(nt))\n",
    "        rf = RandomForestClassifier(featuresCol='features', labelCol='isFraud', maxDepth=md, numTrees=nt)\n",
    "        model = rf.fit(train_features)\n",
    "        predictions = model.transform(train_features)\n",
    "        y_train_pred=predictions.select(\"prediction\").collect()\n",
    "        y_train_orig=predictions.select(\"isFraud\").collect()\n",
    "        print('Training Report')\n",
    "        print(classification_report(y_train_orig, y_train_pred))\n",
    "        \n",
    "        predictions = model.transform(test_features)\n",
    "        y_test_pred=predictions.select(\"prediction\").collect()\n",
    "        y_test_orig=predictions.select(\"isFraud\").collect()\n",
    "        print('Test Report')\n",
    "        print(classification_report(y_test_orig, y_test_pred))\n",
    "        rf_models.append(model)\n"
   ]
  },
  {
   "cell_type": "code",
   "execution_count": 11,
   "metadata": {},
   "outputs": [],
   "source": [
    "# try:\n",
    "#     dt = RandomForestClassifier(featuresCol='features', labelCol='isFraud')\n",
    "#     model = dt.fit(train_features)\n",
    "# except Exception as e:\n",
    "#     print(e)"
   ]
  },
  {
   "cell_type": "code",
   "execution_count": 12,
   "metadata": {},
   "outputs": [],
   "source": [
    "# predictions = model.transform(test_features)\n",
    "# # evaluator = BinaryClassificationEvaluator(labelCol='isFraud', rawPredictionCol='prediction', metricName='areaUnderROC')\n"
   ]
  },
  {
   "cell_type": "code",
   "execution_count": 13,
   "metadata": {},
   "outputs": [],
   "source": [
    "# y_pred=predictions.select(\"prediction\").collect()\n",
    "# y_orig=predictions.select(\"isFraud\").collect()"
   ]
  },
  {
   "cell_type": "code",
   "execution_count": 14,
   "metadata": {},
   "outputs": [],
   "source": [
    "# print(classification_report(y_orig, y_pred))"
   ]
  },
  {
   "cell_type": "code",
   "execution_count": 15,
   "metadata": {},
   "outputs": [],
   "source": [
    "# print(f1_score(y_orig, y_pred))\n",
    "# print(recall_score(y_orig, y_pred))"
   ]
  },
  {
   "cell_type": "code",
   "execution_count": 16,
   "metadata": {},
   "outputs": [],
   "source": [
    "# rmse = evaluator.evaluate(predictions)\n",
    "# print('RoC =', rmse)"
   ]
  },
  {
   "cell_type": "code",
   "execution_count": 17,
   "metadata": {},
   "outputs": [],
   "source": [
    "# test_spark = spark_object.read.option(\"delimiter\", \",\").csv(\"./data/testbalanced.csv\", header='true', inferSchema='true')\n",
    "# num_rows = test_spark.count()\n",
    "# num_cols = len(test_spark.columns)\n",
    "# print(\"Shape of DataFrame: ({}, {})\".format(num_rows, num_cols))\n",
    "\n",
    "# for i in test_spark.columns:\n",
    "#     oldname = i\n",
    "#     if \".\" in oldname:\n",
    "#         newname = oldname.replace(\".\",\"\")\n",
    "#         test_spark = test_spark.withColumnRenamed(oldname, newname)"
   ]
  },
  {
   "cell_type": "code",
   "execution_count": 18,
   "metadata": {},
   "outputs": [],
   "source": [
    "# assembler = VectorAssembler(inputCols=input_list,outputCol='features')\n",
    "# test_data = assembler.transform(test_spark)"
   ]
  },
  {
   "cell_type": "code",
   "execution_count": 19,
   "metadata": {},
   "outputs": [],
   "source": [
    "# predictions = model.transform(test_data)"
   ]
  }
 ],
 "metadata": {
  "kernelspec": {
   "display_name": "bigdata",
   "language": "python",
   "name": "python3"
  },
  "language_info": {
   "codemirror_mode": {
    "name": "ipython",
    "version": 3
   },
   "file_extension": ".py",
   "mimetype": "text/x-python",
   "name": "python",
   "nbconvert_exporter": "python",
   "pygments_lexer": "ipython3",
   "version": "3.10.9"
  }
 },
 "nbformat": 4,
 "nbformat_minor": 2
}
